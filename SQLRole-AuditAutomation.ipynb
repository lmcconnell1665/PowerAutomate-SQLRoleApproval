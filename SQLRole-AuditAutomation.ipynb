{
    "metadata": {
        "kernelspec": {
            "name": "SQL",
            "display_name": "SQL",
            "language": "sql"
        },
        "language_info": {
            "name": "sql",
            "version": ""
        }
    },
    "nbformat_minor": 2,
    "nbformat": 4,
    "cells": [
        {
            "cell_type": "markdown",
            "source": [
                "# Azure SQL Database - User Role Assignment Auditing using Power Automate\n",
                "\n",
                "## The goal of this exercise is to show how Microsoft Power Automate can be used to easily create an approval workflow for SQL role assignments.\n",
                "\n",
                "### Anytime a user is assigned to a new role, a database trigger adds a record to the audit table we have created. The creation of this new record automatically kicks off a Power Automate workflow that sends an approval request to myself. Based on the approval/rejection, the record is updated with the appropriate notes and the role assignment either stays active or is reversed.\n",
                "\n",
                "### Future ideas: This could be built out to require an approval before a role assignment is made to further secure the workflow. There could be additional parameterization added to dynamically select who needs to approve a request based on the company's reporting structure or the data owner."
            ],
            "metadata": {
                "azdata_cell_guid": "441c069e-2ab0-4280-a298-f1741b8f3174"
            }
        },
        {
            "cell_type": "code",
            "source": [
                "-- Create a test login at the server level to play with\r\n",
                "-- Will likely need to run the CREATE LOGIN script directly on master database outside of this notebook\r\n",
                "USE master\r\n",
                "CREATE LOGIN test_datascientist WITH password='Love2Audit!';\r\n",
                "\r\n",
                "-- Associate a user with the login on the target database\r\n",
                "USE AdventureWorks\r\n",
                "CREATE USER test_datascientist FROM LOGIN test_datascientist;\r\n",
                "\r\n",
                "-- Grant the user db_datareader role on AdventureWorks database\r\n",
                "EXEC sp_addrolemember 'db_datawriter', 'test_datascientist';\r\n",
                "\r\n",
                "-- Create a schema for the audit tables\r\n",
                "-- I recommend using a specific auditing schema so you can make this schema read-only for all users\r\n",
                "CREATE SCHEMA adt;"
            ],
            "metadata": {
                "azdata_cell_guid": "e0d47dfd-e85f-40e4-975c-528adaf06514",
                "tags": []
            },
            "outputs": [
                {
                    "output_type": "error",
                    "ename": "",
                    "evalue": "Msg 40508, Level 16, State 1, Line 2\r\nUSE statement is not supported to switch between databases. Use a new connection to connect to a different database.",
                    "traceback": []
                },
                {
                    "output_type": "display_data",
                    "data": {
                        "text/html": "Total execution time: 00:00:00.038"
                    },
                    "metadata": {}
                }
            ],
            "execution_count": 1
        },
        {
            "cell_type": "code",
            "source": [
                "-- Check and see which users have been assigned to which roles on the database\r\n",
                "SELECT\r\n",
                "    DP1.name AS DatabaseRoleName,   \r\n",
                "    DP2.name AS UserName,\r\n",
                "    DP2.[type_desc] AS UserType\r\n",
                "FROM sys.database_role_members AS DRM  \r\n",
                "RIGHT OUTER JOIN sys.database_principals AS DP1  \r\n",
                "   ON DRM.role_principal_id = DP1.principal_id  \r\n",
                "LEFT OUTER JOIN sys.database_principals AS DP2  \r\n",
                "   ON DRM.member_principal_id = DP2.principal_id  \r\n",
                "WHERE DP1.type = 'R'\r\n",
                "    AND DP2.name IS NOT NULL\r\n",
                "ORDER BY DP1.name;"
            ],
            "metadata": {
                "azdata_cell_guid": "bad7d28d-e1c1-4402-9fe2-64d49f41f92f",
                "tags": []
            },
            "outputs": [
                {
                    "output_type": "display_data",
                    "data": {
                        "text/html": "(3 rows affected)"
                    },
                    "metadata": {}
                },
                {
                    "output_type": "display_data",
                    "data": {
                        "text/html": "Total execution time: 00:00:00.052"
                    },
                    "metadata": {}
                },
                {
                    "output_type": "execute_result",
                    "metadata": {},
                    "execution_count": 21,
                    "data": {
                        "application/vnd.dataresource+json": {
                            "schema": {
                                "fields": [
                                    {
                                        "name": "DatabaseRoleName"
                                    },
                                    {
                                        "name": "UserName"
                                    },
                                    {
                                        "name": "UserType"
                                    }
                                ]
                            },
                            "data": [
                                {
                                    "0": "db_datareader",
                                    "1": "test_datascientist",
                                    "2": "SQL_USER"
                                },
                                {
                                    "0": "db_owner",
                                    "1": "dbo",
                                    "2": "SQL_USER"
                                },
                                {
                                    "0": "db_owner",
                                    "1": "12308@lbmc.net",
                                    "2": "EXTERNAL_USER"
                                }
                            ]
                        },
                        "text/html": [
                            "<table>",
                            "<tr><th>DatabaseRoleName</th><th>UserName</th><th>UserType</th></tr>",
                            "<tr><td>db_datareader</td><td>test_datascientist</td><td>SQL_USER</td></tr>",
                            "<tr><td>db_owner</td><td>dbo</td><td>SQL_USER</td></tr>",
                            "<tr><td>db_owner</td><td>12308@lbmc.net</td><td>EXTERNAL_USER</td></tr>",
                            "</table>"
                        ]
                    }
                }
            ],
            "execution_count": 21
        },
        {
            "cell_type": "code",
            "source": [
                "-- Setup auditing tables\r\n",
                "DROP TABLE IF EXISTS adt.UserAccessAudit\r\n",
                "\r\n",
                "-- Create the adt.UserAccessAudit table to track audit results\r\n",
                "CREATE TABLE [adt].[UserAccessAudit] (\r\n",
                "    RecordNumber INT IDENTITY(1,1) PRIMARY KEY,\r\n",
                "    ChangeTimestamp DATETIME NOT NULL,\r\n",
                "    DatabaseRoleName VARCHAR(100) NOT NULL,\r\n",
                "    UserName VARCHAR(100) NOT NULL,\r\n",
                "    ChangedBy VARCHAR(100) NOT NULL,\r\n",
                "    Authorized INT NULL,\r\n",
                "    AuthorizedBy VARCHAR(100) NULL,\r\n",
                "    AuthorizationDateTime DATETIME NULL,\r\n",
                "    AuthorizationNote VARCHAR(MAX) NULL\r\n",
                ")"
            ],
            "metadata": {
                "azdata_cell_guid": "f56fe909-5e4c-4d95-b417-12f3589dd1fc",
                "tags": []
            },
            "outputs": [
                {
                    "output_type": "display_data",
                    "data": {
                        "text/html": "Commands completed successfully."
                    },
                    "metadata": {}
                },
                {
                    "output_type": "display_data",
                    "data": {
                        "text/html": "Total execution time: 00:00:00.417"
                    },
                    "metadata": {}
                }
            ],
            "execution_count": 5
        },
        {
            "cell_type": "code",
            "source": [
                "-- Create a trigger on the database that fires anytime a user is adding to a role\r\n",
                "-- Use this trigger to create a record in adt.UserAccessAudit\r\n",
                "\r\n",
                "IF EXISTS (SELECT * FROM sys.triggers\r\n",
                "    WHERE name = 'ddl_user_role_audit')\r\n",
                "DROP TRIGGER ddl_user_role_audit\r\n",
                "ON DATABASE;\r\n",
                "GO\r\n",
                "\r\n",
                "CREATE TRIGGER ddl_user_role_audit\r\n",
                "ON DATABASE\r\n",
                "FOR ADD_ROLE_MEMBER \r\n",
                "AS\r\n",
                "BEGIN\r\n",
                "\r\n",
                "    -- Get the EVENTDATE in XML format\r\n",
                "    DECLARE @data XML\r\n",
                "    SET @data = EVENTDATA()\r\n",
                "\r\n",
                "    -- Parse out the tsql command\r\n",
                "    DECLARE @tsql NVARCHAR(100)\r\n",
                "    SET @tsql = @data.value('(/EVENT_INSTANCE/TSQLCommand)[1]', 'nvarchar(2000)')\r\n",
                "\r\n",
                "    -- Find the character index values for the database role and user\r\n",
                "    DECLARE @role_start_index INT\r\n",
                "    DECLARE @role_end_index INT\r\n",
                "    DECLARE @user_start_index INT\r\n",
                "    DECLARE @user_end_index INT\r\n",
                "\r\n",
                "    SET @role_start_index = CHARINDEX('[', @tsql, 1)\r\n",
                "    SET @role_end_index = CHARINDEX(']', @tsql, 1)\r\n",
                "\r\n",
                "    SET @user_start_index = CHARINDEX('[', @tsql, @role_start_index + 1)\r\n",
                "    SET @user_end_index = CHARINDEX(']', @tsql, @role_end_index + 1)\r\n",
                "\r\n",
                "    -- Parse out the database role and user\r\n",
                "    DECLARE @database_role VARCHAR(MAX)\r\n",
                "    DECLARE @username VARCHAR(MAX)\r\n",
                "\r\n",
                "    SET @database_role = SUBSTRING(@tsql, @role_start_index + 1, @role_end_index - @role_start_index - 1)\r\n",
                "    SET @username = SUBSTRING(@tsql, @user_start_index + 1, @user_end_index - @user_start_index - 1)\r\n",
                "\r\n",
                "    -- Add a record to the audit table\r\n",
                "    INSERT INTO [adt].[UserAccessAudit] (\r\n",
                "        ChangeTimestamp\r\n",
                "        ,DatabaseRoleName\r\n",
                "        ,UserName\r\n",
                "        ,ChangedBy\r\n",
                "    )\r\n",
                "\r\n",
                "    SELECT\r\n",
                "    GETDATE()\r\n",
                "    ,@database_role\r\n",
                "    ,@username\r\n",
                "    ,CONVERT(NVARCHAR(100), CURRENT_USER)\r\n",
                "END\r\n",
                ""
            ],
            "metadata": {
                "azdata_cell_guid": "580ce7b4-677c-4017-a57f-3fad3646930b"
            },
            "outputs": [],
            "execution_count": null
        },
        {
            "cell_type": "code",
            "source": [
                "-- Test the trigger\r\n",
                "-- Once the Power Automate flow is enabled this will also trigger the approval flow\r\n",
                "EXEC sp_droprolemember 'db_datawriter', 'test_datascientist';\r\n",
                "EXEC sp_addrolemember 'db_datawriter', 'test_datascientist';\r\n",
                "\r\n",
                "SELECT * \r\n",
                "FROM adt.UserAccessAudit\r\n",
                "WHERE RecordNumber = (SELECT MAX(RecordNumber) FROM adt.UserAccessAudit)"
            ],
            "metadata": {
                "azdata_cell_guid": "12f093a5-60ec-4eb8-b977-8efd496f3601"
            },
            "outputs": [
                {
                    "output_type": "display_data",
                    "data": {
                        "text/html": "(1 row affected)"
                    },
                    "metadata": {}
                },
                {
                    "output_type": "display_data",
                    "data": {
                        "text/html": "Total execution time: 00:00:00.069"
                    },
                    "metadata": {}
                },
                {
                    "output_type": "execute_result",
                    "metadata": {},
                    "execution_count": 20,
                    "data": {
                        "application/vnd.dataresource+json": {
                            "schema": {
                                "fields": [
                                    {
                                        "name": "RecordNumber"
                                    },
                                    {
                                        "name": "ChangeTimestamp"
                                    },
                                    {
                                        "name": "DatabaseRoleName"
                                    },
                                    {
                                        "name": "UserName"
                                    },
                                    {
                                        "name": "ChangedBy"
                                    },
                                    {
                                        "name": "Authorized"
                                    },
                                    {
                                        "name": "AuthorizedBy"
                                    },
                                    {
                                        "name": "AuthorizationDateTime"
                                    },
                                    {
                                        "name": "AuthorizationNote"
                                    }
                                ]
                            },
                            "data": [
                                {
                                    "0": "16",
                                    "1": "2021-03-29 19:13:18.907",
                                    "2": "db_datawriter",
                                    "3": "test_datascientist",
                                    "4": "12308@lbmc.net",
                                    "5": "NULL",
                                    "6": "NULL",
                                    "7": "NULL",
                                    "8": "NULL"
                                }
                            ]
                        },
                        "text/html": [
                            "<table>",
                            "<tr><th>RecordNumber</th><th>ChangeTimestamp</th><th>DatabaseRoleName</th><th>UserName</th><th>ChangedBy</th><th>Authorized</th><th>AuthorizedBy</th><th>AuthorizationDateTime</th><th>AuthorizationNote</th></tr>",
                            "<tr><td>16</td><td>2021-03-29 19:13:18.907</td><td>db_datawriter</td><td>test_datascientist</td><td>12308@lbmc.net</td><td>NULL</td><td>NULL</td><td>NULL</td><td>NULL</td></tr>",
                            "</table>"
                        ]
                    }
                }
            ],
            "execution_count": 20
        },
        {
            "cell_type": "markdown",
            "source": [
                "## Power Automate Approval Workflow\n",
                "\n",
                "The Power Automate flow is automatically triggered anytime a new row is added to adt.UserAccessAudit, so the database trigger adding these records automatically kicks off the approval process.\n",
                "\n",
                "If a role change is **approved**, then the approval is recorded on the row in adt.UserAccessAudit and no other actions are needed.\n",
                "\n",
                "If a role change is **rejected**, then the rejection is recorded on the row in adt.UserAccessAudit and then the role assignment is dropped."
            ],
            "metadata": {
                "azdata_cell_guid": "afbd0200-789a-4317-bdfa-5258eff6b6ed"
            }
        }
    ]
}